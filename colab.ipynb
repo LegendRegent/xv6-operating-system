!pip install pygit2==1.12.2

!git clone https://github.com/LegendRegent/xv6-operating-system.git
# %cd $(find . -maxdepth 1 -type d -name "xv6-operating-system*" | head -n 1)
import os

# Run the find command using Python's subprocess module
directory = os.popen('find . -maxdepth 1 -type d -name "xv6-operating-system*" | head -n 1').read().strip()

# Change the current working directory
os.chdir(directory)
