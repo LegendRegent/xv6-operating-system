!git clone https://github.com/LegendRegent/xv6-operating-system.git

%cd $(find . -maxdepth 1 -type d -name "xv6-operating-system*" | head -n 1)

!make qemu