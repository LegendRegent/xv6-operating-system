{
  "nbformat": 4,
  "nbformat_minor": 0,
  "metadata": {
    "colab": {
      "provenance": []
    },
    "kernelspec": {
      "name": "python3",
      "display_name": "Python 3"
    },
    "language_info": {
      "name": "python"
    }
  },
  "cells": [
    {
      "cell_type": "code",
      "execution_count": null,
      "metadata": {
        "colab": {
          "base_uri": "https://localhost:8080/"
        },
        "id": "oSevdbvNQ1KR",
        "outputId": "d4546753-eafb-4ab6-e759-8bbeaf1bbe27"
      },
      "outputs": [
        {
          "output_type": "stream",
          "name": "stdout",
          "text": [
            "/content\n",
            "fatal: destination path 'xv6-operating-system' already exists and is not an empty directory.\n",
            "make: *** No rule to make target 'qemu'.  Stop.\n"
          ]
        }
      ],
      "source": [
        "%cd /content\n",
        "\n",
        "!git clone https://github.com/LegendRegent/xv6-operating-system.git\n",
        "# %cd $(find . -maxdepth 1 -type d -name \"xv6-operating-system*\" | head -n 1)\n",
        "import os\n",
        "\n",
        "# Run the find command using Python's subprocess module\n",
        "directory = os.popen('find . -maxdepth 1 -type d -name \"xv6-operating-system*\" | head -n 1').read().strip()\n",
        "\n",
        "# Change the current working directory\n",
        "os.chdir(directory)\n",
        "\n",
        "!make qemu"
      ]
    }
  ]
}